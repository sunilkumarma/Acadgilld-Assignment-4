{
 "cells": [
  {
   "cell_type": "code",
   "execution_count": 6,
   "metadata": {},
   "outputs": [
    {
     "name": "stdout",
     "output_type": "stream",
     "text": [
      "[25. 35. 45. 55. 65. 75. 85.]\n"
     ]
    }
   ],
   "source": [
    "'''\n",
    "1. Given a sequence of n values x1, x2, ..., xn and a window size k>0, the k-th moving average of\n",
    "the given sequence is defined as follows:\n",
    "The moving average sequence has n-k+1 elements as shown below.\n",
    "The moving averages with k=4 of a ten-value sequence (n=10) is shown below\n",
    "i 1 2 3 4 5 6 7 8 9 10\n",
    "===== == == == == == == == == == ==\n",
    "Input 10 20 30 40 50 60 70 80 90 100\n",
    "y1 25 = (10+20+30+40)/4\n",
    "y2 35 = (20+30+40+50)/4\n",
    "y3 45 = (30+40+50+60)/4\n",
    "y4 55 = (40+50+60+70)/4\n",
    "y5 65 = (50+60+70+80)/4\n",
    "y6 75 = (60+70+80+90)/4\n",
    "y7 85 = (70+80+90+100)/4\n",
    "\n",
    "Thus, the moving average sequence has n-k+1=10-4+1=7 values.\n",
    "'''\n",
    "\n",
    "import numpy as np\n",
    "dataset = np.asarray([10, 20, 30, 40, 50, 60, 70, 80, 90, 100])\n",
    "sun = list()\n",
    "window = 4\n",
    "for x in range(0, len(dataset)):\n",
    "    if x+window <= len(dataset):\n",
    "        indices = range(x, x+window)\n",
    "        sun.append(np.average(np.take(dataset, indices)))\n",
    "else:\n",
    "    sun = np.asarray(sun)\n",
    "    \n",
    "print(sun)\n"
   ]
  },
  {
   "cell_type": "code",
   "execution_count": 4,
   "metadata": {},
   "outputs": [
    {
     "data": {
      "text/plain": [
       "array([  4.        ,   5.        ,   4.66666667,   5.66666667,\n",
       "         6.66666667,   9.66666667,  28.66666667,  49.33333333,\n",
       "        72.66666667,  84.        ,  93.33333333, 116.33333333,\n",
       "       125.        ])"
      ]
     },
     "execution_count": 4,
     "metadata": {},
     "output_type": "execute_result"
    }
   ],
   "source": [
    "'''\n",
    "2. Write a function to find moving average in an array over a window:\n",
    "Test it over [3, 5, 7, 2, 8, 10, 11, 65, 72, 81, 99, 100, 150] and window of 3.\n",
    "'''\n",
    "\n",
    "def moving_mean(x, N):\n",
    "    out = np.zeros_like(x, dtype=np.float64)\n",
    "    dim_len = x.shape[0]\n",
    "    for i in range(dim_len):\n",
    "        if N%2 == 0:\n",
    "            a, b = i - (N-1)//2, i + (N-1)//2 + 2\n",
    "        else:\n",
    "            a, b = i - (N-1)//2, i + (N-1)//2 + 1\n",
    "\n",
    "        #cap indices to min and max indices\n",
    "        a = max(0, a)\n",
    "        b = min(dim_len, b)\n",
    "        out[i] = np.mean(x[a:b])\n",
    "    return out\n",
    "\n",
    "l = [3, 5, 7, 2, 8, 10, 11, 65, 72, 81, 99, 100, 150]\n",
    "moving_mean(np.array(l), 3)"
   ]
  },
  {
   "cell_type": "code",
   "execution_count": 2,
   "metadata": {},
   "outputs": [
    {
     "data": {
      "text/html": [
       "<div>\n",
       "<style scoped>\n",
       "    .dataframe tbody tr th:only-of-type {\n",
       "        vertical-align: middle;\n",
       "    }\n",
       "\n",
       "    .dataframe tbody tr th {\n",
       "        vertical-align: top;\n",
       "    }\n",
       "\n",
       "    .dataframe thead th {\n",
       "        text-align: right;\n",
       "    }\n",
       "</style>\n",
       "<table border=\"1\" class=\"dataframe\">\n",
       "  <thead>\n",
       "    <tr style=\"text-align: right;\">\n",
       "      <th></th>\n",
       "      <th>X</th>\n",
       "      <th>Y</th>\n",
       "    </tr>\n",
       "  </thead>\n",
       "  <tbody>\n",
       "    <tr>\n",
       "      <th>0</th>\n",
       "      <td>7</td>\n",
       "      <td>0</td>\n",
       "    </tr>\n",
       "    <tr>\n",
       "      <th>1</th>\n",
       "      <td>2</td>\n",
       "      <td>5</td>\n",
       "    </tr>\n",
       "    <tr>\n",
       "      <th>2</th>\n",
       "      <td>0</td>\n",
       "      <td>7</td>\n",
       "    </tr>\n",
       "    <tr>\n",
       "      <th>3</th>\n",
       "      <td>3</td>\n",
       "      <td>4</td>\n",
       "    </tr>\n",
       "    <tr>\n",
       "      <th>4</th>\n",
       "      <td>4</td>\n",
       "      <td>3</td>\n",
       "    </tr>\n",
       "    <tr>\n",
       "      <th>5</th>\n",
       "      <td>2</td>\n",
       "      <td>5</td>\n",
       "    </tr>\n",
       "    <tr>\n",
       "      <th>6</th>\n",
       "      <td>5</td>\n",
       "      <td>2</td>\n",
       "    </tr>\n",
       "    <tr>\n",
       "      <th>7</th>\n",
       "      <td>0</td>\n",
       "      <td>7</td>\n",
       "    </tr>\n",
       "    <tr>\n",
       "      <th>8</th>\n",
       "      <td>3</td>\n",
       "      <td>4</td>\n",
       "    </tr>\n",
       "    <tr>\n",
       "      <th>9</th>\n",
       "      <td>4</td>\n",
       "      <td>3</td>\n",
       "    </tr>\n",
       "  </tbody>\n",
       "</table>\n",
       "</div>"
      ],
      "text/plain": [
       "   X  Y\n",
       "0  7  0\n",
       "1  2  5\n",
       "2  0  7\n",
       "3  3  4\n",
       "4  4  3\n",
       "5  2  5\n",
       "6  5  2\n",
       "7  0  7\n",
       "8  3  4\n",
       "9  4  3"
      ]
     },
     "execution_count": 2,
     "metadata": {},
     "output_type": "execute_result"
    }
   ],
   "source": [
    "'''\n",
    "3. How-to-count-distance-to-the-previous-zero\n",
    "For each value, count the difference back to the previous zero (or the start of the Series,\n",
    "whichever is closer)\n",
    "create a new column 'Y'\n",
    "Consider a DataFrame df where there is an integer column 'X'\n",
    "import pandas as pd\n",
    "df = pd.DataFrame({'X': [7, 2, 0, 3, 4, 2, 5, 0, 3, 4]})\n",
    "'''\n",
    "import pandas as pd\n",
    "df = pd.DataFrame({'X': [7, 2, 0, 3, 4, 2, 5, 0, 3, 4]})\n",
    "df['Y'] = 7- df['X']\n",
    "df"
   ]
  },
  {
   "cell_type": "code",
   "execution_count": 7,
   "metadata": {},
   "outputs": [
    {
     "data": {
      "text/plain": [
       "2015-01-01    0.408730\n",
       "2015-01-02    0.924939\n",
       "2015-01-05    0.134808\n",
       "2015-01-06    0.820583\n",
       "2015-01-07    0.627791\n",
       "2015-01-08    0.570152\n",
       "2015-01-09    0.001525\n",
       "2015-01-12    0.981390\n",
       "2015-01-13    0.567102\n",
       "2015-01-14    0.292032\n",
       "2015-01-15    0.625522\n",
       "2015-01-16    0.864082\n",
       "2015-01-19    0.070163\n",
       "2015-01-20    0.153047\n",
       "2015-01-21    0.835364\n",
       "2015-01-22    0.526456\n",
       "2015-01-23    0.496802\n",
       "2015-01-26    0.073782\n",
       "2015-01-27    0.849846\n",
       "2015-01-28    0.810984\n",
       "2015-01-29    0.604084\n",
       "2015-01-30    0.523299\n",
       "2015-02-02    0.812740\n",
       "2015-02-03    0.509644\n",
       "2015-02-04    0.436940\n",
       "2015-02-05    0.666427\n",
       "2015-02-06    0.588600\n",
       "2015-02-09    0.472956\n",
       "2015-02-10    0.271689\n",
       "2015-02-11    0.505034\n",
       "                ...   \n",
       "2015-11-20    0.059750\n",
       "2015-11-23    0.906673\n",
       "2015-11-24    0.443363\n",
       "2015-11-25    0.620590\n",
       "2015-11-26    0.661345\n",
       "2015-11-27    0.638986\n",
       "2015-11-30    0.130713\n",
       "2015-12-01    0.245093\n",
       "2015-12-02    0.876493\n",
       "2015-12-03    0.572556\n",
       "2015-12-04    0.385496\n",
       "2015-12-07    0.229221\n",
       "2015-12-08    0.772559\n",
       "2015-12-09    0.444057\n",
       "2015-12-10    0.400341\n",
       "2015-12-11    0.401492\n",
       "2015-12-14    0.788222\n",
       "2015-12-15    0.007977\n",
       "2015-12-16    0.854400\n",
       "2015-12-17    0.255156\n",
       "2015-12-18    0.531765\n",
       "2015-12-21    0.997824\n",
       "2015-12-22    0.633177\n",
       "2015-12-23    0.149017\n",
       "2015-12-24    0.008767\n",
       "2015-12-25    0.417726\n",
       "2015-12-28    0.913799\n",
       "2015-12-29    0.048344\n",
       "2015-12-30    0.950224\n",
       "2015-12-31    0.111980\n",
       "Freq: B, Length: 261, dtype: float64"
      ]
     },
     "execution_count": 7,
     "metadata": {},
     "output_type": "execute_result"
    }
   ],
   "source": [
    "'''\n",
    "4. Create a DatetimeIndex that contains each business day of 2015 and use it to index a Series of random numbers.\n",
    "'''\n",
    "import numpy as np\n",
    "\n",
    "date = pd.date_range(start='2015-01-01', end='2015-12-31', freq='B') \n",
    "s = pd.Series(np.random.rand(len(dti)), index=date)\n",
    "s"
   ]
  },
  {
   "cell_type": "code",
   "execution_count": 10,
   "metadata": {},
   "outputs": [
    {
     "data": {
      "text/plain": [
       "26.327508464083735"
      ]
     },
     "execution_count": 10,
     "metadata": {},
     "output_type": "execute_result"
    }
   ],
   "source": [
    "'''\n",
    "5. Find the sum of the values in s for every Wednesday\n",
    "'''\n",
    "\n",
    "s[dti.weekday == 2].sum()"
   ]
  },
  {
   "cell_type": "code",
   "execution_count": 14,
   "metadata": {},
   "outputs": [
    {
     "data": {
      "text/plain": [
       "2015-01-31    0.534658\n",
       "2015-02-28    0.559852\n",
       "2015-03-31    0.571127\n",
       "2015-04-30    0.536590\n",
       "2015-05-31    0.489048\n",
       "2015-06-30    0.524425\n",
       "2015-07-31    0.427576\n",
       "2015-08-31    0.322847\n",
       "2015-09-30    0.478587\n",
       "2015-10-31    0.425972\n",
       "2015-11-30    0.541935\n",
       "2015-12-31    0.478073\n",
       "Freq: M, dtype: float64"
      ]
     },
     "execution_count": 14,
     "metadata": {},
     "output_type": "execute_result"
    }
   ],
   "source": [
    "'''\n",
    "6. Average For each calendar month\n",
    "'''\n",
    "\n",
    "s.resample('M').mean()"
   ]
  },
  {
   "cell_type": "code",
   "execution_count": 18,
   "metadata": {},
   "outputs": [
    {
     "data": {
      "text/plain": [
       "2015-01-31   2015-01-12\n",
       "2015-05-31   2015-02-12\n",
       "2015-09-30   2015-06-03\n",
       "2016-01-31   2015-12-21\n",
       "dtype: datetime64[ns]"
      ]
     },
     "execution_count": 18,
     "metadata": {},
     "output_type": "execute_result"
    }
   ],
   "source": [
    "'''\n",
    "7. For each group of four consecutive calendar months in s, find the date on which the highest value occurred.\n",
    "'''\n",
    "\n",
    "s.groupby(pd.Grouper(freq='4M')).idxmax()"
   ]
  },
  {
   "cell_type": "code",
   "execution_count": null,
   "metadata": {},
   "outputs": [],
   "source": []
  }
 ],
 "metadata": {
  "kernelspec": {
   "display_name": "Python 3",
   "language": "python",
   "name": "python3"
  },
  "language_info": {
   "codemirror_mode": {
    "name": "ipython",
    "version": 3
   },
   "file_extension": ".py",
   "mimetype": "text/x-python",
   "name": "python",
   "nbconvert_exporter": "python",
   "pygments_lexer": "ipython3",
   "version": "3.7.0"
  }
 },
 "nbformat": 4,
 "nbformat_minor": 2
}
